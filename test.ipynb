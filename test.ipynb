{
 "cells": [
  {
   "cell_type": "code",
   "execution_count": 1,
   "metadata": {},
   "outputs": [],
   "source": [
    "from langchain_community.llms import HuggingFaceTextGenInference\n",
    "from langchain import PromptTemplate\n",
    "from typing import NamedTuple\n",
    "import asyncio"
   ]
  },
  {
   "cell_type": "code",
   "execution_count": 2,
   "metadata": {},
   "outputs": [],
   "source": [
    "class LlmGenerationParameters(NamedTuple):\n",
    "    top_k: int\n",
    "    top_p: float\n",
    "    temperature: float\n",
    "    repetition_penalty: float\n",
    "\n",
    "class RagParameters(NamedTuple):\n",
    "    chunk_size: int\n",
    "    chunk_overlap: int\n",
    "    top_k: int"
   ]
  },
  {
   "cell_type": "code",
   "execution_count": 3,
   "metadata": {},
   "outputs": [
    {
     "name": "stderr",
     "output_type": "stream",
     "text": [
      "/home/q36862/#llm_fe/.venv/lib/python3.11/site-packages/pydantic/_internal/_fields.py:151: UserWarning: Field \"model_id\" has conflict with protected namespace \"model_\".\n",
      "\n",
      "You may be able to resolve this warning by setting `model_config['protected_namespaces'] = ()`.\n",
      "  warnings.warn(\n"
     ]
    }
   ],
   "source": []
  },
  {
   "cell_type": "code",
   "execution_count": 3,
   "metadata": {},
   "outputs": [],
   "source": [
    "template = \"\"\"\n",
    "<s>[INST] <<SYS>>\n",
    "{sys}\n",
    "<</SYS>>\n",
    " \n",
    "{user} [/INST]\n",
    "\"\"\"\n",
    " \n",
    "prompt = PromptTemplate(\n",
    "    input_variables=[\"sys\", \"user\"],\n",
    "    template=template,\n",
    ")"
   ]
  },
  {
   "cell_type": "code",
   "execution_count": 4,
   "metadata": {},
   "outputs": [],
   "source": [
    "def llm_fetch_result(prompt: str, llm_parameter: LlmGenerationParameters) -> str:\n",
    "    llm = HuggingFaceTextGenInference(\n",
    "        inference_server_url=\"http://localhost:15810/\",\n",
    "        max_new_tokens=1024,\n",
    "        top_k=llm_parameter.top_k,\n",
    "        top_p=llm_parameter.top_p,\n",
    "        temperature=llm_parameter.temperature,\n",
    "        repetition_penalty=llm_parameter.repetition_penalty,\n",
    "    )\n",
    "    return llm.stream(prompt)\n"
   ]
  },
  {
   "cell_type": "code",
   "execution_count": null,
   "metadata": {},
   "outputs": [],
   "source": []
  },
  {
   "cell_type": "code",
   "execution_count": 9,
   "metadata": {},
   "outputs": [
    {
     "name": "stdout",
     "output_type": "stream",
     "text": [
      "\n",
      "當然可以！臺北市政府是臺灣的首都，也是臺灣最大的城市。它位於臺灣的北部，人口超過230萬人。臺北市政府的主要職能包括：\n",
      "\n",
      "* 公共安全：臺北市政府負責維護臺北市的公共安全，包括警察、消防和救護服務。\n",
      "* 交通：臺北市政府負責管理臺北市的交通系統，包括公車、捷運和計程車。\n",
      "* 教育：臺北市政府負責管理臺北市的學校，包括小學、中學和高中。\n",
      "* 衛生：臺北市政府負責管理臺北市的衛生服務，包括醫院、診所和健康中心。\n",
      "* 經濟發展：臺北市政府負責推動臺北市的經濟發展，包括創新、創業和就業機會。\n",
      "* 文化和藝術：臺北市政府負責推動臺北市的文化和藝術活動，包括博物館、劇院和音樂廳。\n",
      "* 環境保護：臺北市政府負責管理臺北市的環境，包括空氣和水質。\n",
      "* 社會福利：臺北市政府負責提供臺北市的社會福利服務，包括老人福利、兒童福利和社會保障。\n",
      "\n",
      "這只是臺北市政府的一些主要職能，但他們的工作範圍非常廣泛，涵蓋了臺北市的各個方面。"
     ]
    }
   ],
   "source": [
    "system_prompt = \"\"\"\n",
    "You are an expert programmer and problem-solver, tasked with answering any question provided. Always answer as helpfully as possible, while being safe.  Your answers should not include any harmful, unethical, racist, sexist, toxic, dangerous, or illegal content. Please ensure that your responses are socially unbiased and positive in nature.\n",
    "\n",
    "If a question does not make any sense, or is not factually coherent, explain why instead of answering something not correct. If you don't know the answer to a question, please don't share false information. Do not repeat text. \n",
    "\n",
    "Answer the question in Markdown format for readability, use bullet points if possible.\n",
    "\"\"\"\n",
    "llm = HuggingFaceTextGenInference(\n",
    "    inference_server_url=\"http://localhost:15810/\",\n",
    "    max_new_tokens=1024,\n",
    "    top_k=10,\n",
    "    top_p=0.7,\n",
    "    temperature=0.01,\n",
    "    repetition_penalty=1.03,\n",
    "    do_sample=True,\n",
    ")\n",
    "\n",
    "user_prompt = prompt.partial(sys=system_prompt)\n",
    "for chunk in llm.stream(user_prompt.format(user=\"是否可以提供一些臺北市政府的相關資訊。\")):\n",
    "    print(chunk, end=\"\")\n",
    "\n"
   ]
  },
  {
   "cell_type": "code",
   "execution_count": 21,
   "metadata": {},
   "outputs": [
    {
     "data": {
      "text/plain": [
       "\"\\nUndertale是一款2D冒險遊戲，由Toby Fox開發。遊戲設定在一個被稱為地下城的地方，玩家控制的角色是一個名叫薩爾的小狐狸。遊戲的主要特點是其多樣化的故事和角色，以及其中的複雜的道德選擇。\\n\\n遊戲的故事講述了一個名叫薩爾的小狐狸，他在一個被稱為地下城的地方生活。在這個世界中，所有的生物都是人類，而不是動物。薩爾的目標是通過地下城，並在遊戲中學習如何成為一個更好的人。\\n\\n遊戲的多樣化的故事和角色使得每次遊戲都能有不同的結果。玩家的選擇會影��hthe game's outcome，從而改變遊戲的故事和角色。\\n\\nUndertale的多樣化的道德選擇也是其中一個重要的特點。遊戲的道德選擇會影響到遊戲的結局，並且會影響到角色的行為和情緒。這使得遊戲的故事和角色更加真實和複雜。\\n\\n總的來說，Undertale是一款非常有趣和深入的遊戲，它的多樣化的故事和角色，以及其中的複雜的道德選擇，使得遊戲成為一個令人難忘的體驗。\""
      ]
     },
     "execution_count": 21,
     "metadata": {},
     "output_type": "execute_result"
    }
   ],
   "source": [
    "system_prompt = \"\"\"\n",
    "You are a helpful, respectful and honest assistant. Always answer as helpfully as possible, while being safe.  Your answers should not include any harmful, unethical, racist, sexist, toxic, dangerous, or illegal content. Please ensure that your responses are socially unbiased and positive in nature.\n",
    "\n",
    "If a question does not make any sense, or is not factually coherent, explain why instead of answering something not correct. If you don't know the answer to a question, please don't share false information.\n",
    "\"\"\"\n",
    "llm_param = LlmGenerationParameters(top_k=64, top_p=0.9, temperature=0.01, repetition_penalty=1.04)\n",
    "user_prompt = prompt.partial(sys=system_prompt)\n",
    "llm_fetch_result(user_prompt.format(user=\"undertale是什麼樣的遊戲?\"), llm_parameter=llm_param)\n"
   ]
  },
  {
   "cell_type": "code",
   "execution_count": 17,
   "metadata": {},
   "outputs": [
    {
     "name": "stdout",
     "output_type": "stream",
     "text": [
      "\n",
      "為了提升行政效率，臺北市政府資訊局於112年5月24日起停止適用臺北大數據中心作業要點。目前相關業務及人員，皆隸屬於本局數據治理中心，相關研究專案已常態性辦理，其功能仍持續進行中。\n",
      "\n",
      "臺北大數據中心(Taipei Urban Intelligence Center)為臺北市政府資訊局2020年7月31日成立的跨局處資料應用創新單位，隸屬於資訊局數據治理中心。主責推動跨局處、跨數據源、跨專業的資料應用分析，並且以應用作為驅動力，建構市政跨局處數據整合機制，打造一站式的市政資料流與應用模組，提供市政創新解決方案，邁向循證式決策目標及落實數據治理之理念。\n",
      "\n",
      "臺北大數據中心的職責包括：\n",
      "\n",
      "1. 推動臺北市政管理及便民服務電子化，資訊基礎建設及資通安全管理，以及包括智慧城市、大數據應用等各項數位創新工作的推動。\n",
      "2. 就資料應用的規範、環境等進行把關。\n",
      "3. 推動跨域市政資料應用，於110年進行組織調整，正式成立數據治理中心，就資料應用的規範、環境等進行把關。\n",
      "4. 推動跨局處、跨數據源、跨專業的資料應用分析，並且以應用作為驅動力，建構市政跨局處數據整合機制，打造一站式的市政資料流與應用模組，提供市政創新解決方案，邁向循證式決策目標及落實數據治理之理念。\n",
      "5. 推動跨局處、跨數據源、跨專業的資料應用分析，並且以應用作為驅動力，建構市政跨局處數據整合機制，打造一站式的市政資料流與應用模組，提供市政創新解決方案，邁向循證"
     ]
    }
   ],
   "source": [
    "template = \"\"\"\n",
    "<s>[INST] <<SYS>>\n",
    "{sys}\n",
    "<content>\n",
    "{content}\n",
    "</content>\n",
    "<</SYS>>\n",
    " \n",
    "{user} [/INST]\n",
    "\"\"\"\n",
    "\n",
    "\n",
    "system_prompt_rag=\"\"\"\n",
    "You are an expert programmer and problem-solver, tasked with answering any question provided. Always answer as helpfully as possible, while being safe.  Your answers should not include any harmful, unethical, racist, sexist, toxic, dangerous, or illegal content. Please ensure that your responses are socially unbiased and positive in nature.\n",
    "\n",
    "If a question does not make any sense, or is not factually coherent, explain why instead of answering something not correct. If you don't know the answer to a question, please don't share false information. Do not repeat text. \n",
    "\n",
    "You should use bullet points in your answer for readability.\n",
    "\n",
    "Generate a comprehensive and informative answer for the given question based solely on the provided contents.\n",
    "\n",
    "Anything between the following `context`  html blocks is retrieved from a knowledge bank, not part of the conversation with the user.\n",
    "\"\"\"\n",
    "\n",
    "content = \"\"\"\n",
    "配合本局於110年7月1日組織調整及大數據中心階段性任務完成，為精簡組織俾利提升行政效率，於112年5月24日起停止適用臺北大數據中心作業要點。目前相關業務及人員，皆隸屬於本局數據治理中心，相關研究專案已常態性辦理，其功能仍持續進行中。\n",
    "\n",
    "本府資訊局為技術幕僚機關，協助各局處有關跨域資料分析，俾供後續局處政策決策參考。凡有局處提出需求，皆盡力配合及行政協處，相關執行專案詳如附件。\n",
    "\n",
    "臺北市政府資訊局隸屬於臺北市政府，為臺北市政府資訊業務主管機關，主要職掌包括：推動臺北市政管理及便民服務電子化，資訊基礎建設及資通安全管理，以及包括智慧城市、大數據應用等各項數位創新工作的推動。為實踐循證式治理，推動跨域市政資料應用，於110年進行組織調整，正式成立數據治理中心，就資料應用的規範、環境等進行把關。 \n",
    "\n",
    "臺北大數據中心(Taipei Urban Intelligence Center)為臺北市政府資訊局2020年7月31日成立的跨局處資料應用創新單位，隸屬於資訊局數據治理中心。主責推動跨局處、跨數據源、跨專業的資料應用分析，並且以應用作為驅動力，建構市政跨局處數據整合機制，打造一站式的市政資料流與應用模組，提供市政創新解決方案，邁向循證式決策目標及落實數據治理之理念。  \n",
    "\"\"\"\n",
    "\n",
    "llm = HuggingFaceTextGenInference(\n",
    "    inference_server_url=\"http://localhost:15810/\",\n",
    "    max_new_tokens=1024,\n",
    "    top_k=64,\n",
    "    top_p=0.95,\n",
    "    temperature=0.3,\n",
    "    repetition_penalty=1.03,\n",
    "    do_sample=True,\n",
    ")\n",
    "\n",
    "prompt = PromptTemplate(\n",
    "    input_variables=[\"sys\", \"user\", \"content\"],\n",
    "    template=template,\n",
    ")\n",
    "\n",
    "user_prompt = prompt.partial(sys=system_prompt)\n",
    "\n",
    "for chunk in llm.stream(user_prompt.format(user=\"是否能整理有一些關於台北大數據中心的資訊?\", content=content)):\n",
    "    print(chunk, end=\"\")"
   ]
  },
  {
   "cell_type": "code",
   "execution_count": null,
   "metadata": {},
   "outputs": [],
   "source": []
  }
 ],
 "metadata": {
  "kernelspec": {
   "display_name": "venv",
   "language": "python",
   "name": "python3"
  },
  "language_info": {
   "codemirror_mode": {
    "name": "ipython",
    "version": 3
   },
   "file_extension": ".py",
   "mimetype": "text/x-python",
   "name": "python",
   "nbconvert_exporter": "python",
   "pygments_lexer": "ipython3",
   "version": "3.11.7"
  }
 },
 "nbformat": 4,
 "nbformat_minor": 2
}
